{
 "cells": [
  {
   "cell_type": "code",
   "execution_count": null,
   "metadata": {},
   "outputs": [],
   "source": [
    "from src.data.load_data import load_data\n",
    "import pandas as pd\n",
    "\n",
    "# Avant\n",
    "big_raw = pd.read_csv(\"data/big_matrix.csv\")\n",
    "print(\"NaN avant:\", big_raw.isna().sum())\n",
    "\n",
    "# Appliquer preprocess\n",
    "from src.data.preprocess import preprocess_and_export\n",
    "preprocess_and_export(out_dir=\"preprocessed\")\n",
    "\n",
    "# Après\n",
    "big_clean = pd.read_parquet(\"preprocessed/big_matrix.parquet\")\n",
    "print(\"NaN après:\", big_clean.isna().sum())\n"
   ]
  },
  {
   "cell_type": "code",
   "execution_count": null,
   "metadata": {},
   "outputs": [],
   "source": [
    "# Exemple : jointure category_id\n",
    "print(big_clean.columns)\n",
    "big_clean.recipe.head()\n"
   ]
  }
 ],
 "metadata": {
  "language_info": {
   "name": "python"
  }
 },
 "nbformat": 4,
 "nbformat_minor": 2
}
