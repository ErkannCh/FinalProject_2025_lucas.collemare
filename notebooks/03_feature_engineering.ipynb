{
 "cells": [
  {
   "cell_type": "code",
   "execution_count": null,
   "metadata": {},
   "outputs": [],
   "source": [
    "import pandas as pd\n",
    "big = pd.read_parquet(\"preprocessed/big_matrix.parquet\")\n",
    "small = pd.read_parquet(\"preprocessed/small_matrix.parquet\")\n"
   ]
  },
  {
   "cell_type": "code",
   "execution_count": null,
   "metadata": {},
   "outputs": [],
   "source": [
    "from src.features.build_features import build_interaction_matrix\n",
    "mat, user_map, item_map = build_interaction_matrix(big, small)\n"
   ]
  },
  {
   "cell_type": "code",
   "execution_count": null,
   "metadata": {},
   "outputs": [],
   "source": [
    "users = pd.read_parquet(\"features/user_features.parquet\")\n",
    "items = pd.read_parquet(\"features/item_features.parquet\")\n",
    "display(users.head())\n",
    "display(items.head())\n"
   ]
  },
  {
   "cell_type": "code",
   "execution_count": null,
   "metadata": {},
   "outputs": [],
   "source": [
    "import joblib\n",
    "joblib.dump(user_map, \"features/user_map.pkl\")\n",
    "joblib.dump(item_map, \"features/item_map.pkl\")\n"
   ]
  }
 ],
 "metadata": {
  "language_info": {
   "name": "python"
  }
 },
 "nbformat": 4,
 "nbformat_minor": 2
}
