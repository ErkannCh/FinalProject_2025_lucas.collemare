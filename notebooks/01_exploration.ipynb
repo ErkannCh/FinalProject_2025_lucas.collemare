{
 "cells": [
  {
   "cell_type": "code",
   "execution_count": null,
   "metadata": {},
   "outputs": [],
   "source": [
    "from src.data.load_data import load_data\n",
    "dfs = load_data(\"data\")\n",
    "big, small = dfs[\"big_matrix\"], dfs[\"small_matrix\"]\n"
   ]
  },
  {
   "cell_type": "code",
   "execution_count": null,
   "metadata": {},
   "outputs": [],
   "source": [
    "print(\"Interactions total:\", len(big))\n",
    "print(\"Utilisateurs uniques:\", big.user_id.nunique())\n",
    "print(\"Vidéos uniques:\", big.item_id.nunique())\n"
   ]
  },
  {
   "cell_type": "code",
   "execution_count": null,
   "metadata": {},
   "outputs": [],
   "source": [
    "import matplotlib.pyplot as plt\n",
    "\n",
    "# Interactions par utilisateur\n",
    "counts = big.user_id.value_counts()\n",
    "plt.hist(counts, bins=50); plt.title(\"Interactions par user\"); plt.show()\n",
    "\n",
    "# Interactions par vidéo\n",
    "counts = big.item_id.value_counts()\n",
    "plt.hist(counts, bins=50); plt.title(\"Interactions par item\"); plt.show()\n"
   ]
  },
  {
   "cell_type": "code",
   "execution_count": null,
   "metadata": {},
   "outputs": [],
   "source": [
    "items = dfs[\"item_categories\"]\n",
    "items.category_id.value_counts().head(10)\n"
   ]
  }
 ],
 "metadata": {
  "language_info": {
   "name": "python"
  }
 },
 "nbformat": 4,
 "nbformat_minor": 2
}
